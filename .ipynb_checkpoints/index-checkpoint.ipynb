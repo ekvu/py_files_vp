{
 "cells": [
  {
   "cell_type": "markdown",
   "metadata": {},
   "source": [
    "## Efficient Data Science Workflows Use Functions in .py Files"
   ]
  },
  {
   "cell_type": "markdown",
   "metadata": {},
   "source": [
    "In order to avoid the clutter of jupyter notebooks and to aid collaboration, an efficient data science workflow puts most of its work into **functions**.  "
   ]
  },
  {
   "cell_type": "markdown",
   "metadata": {},
   "source": [
    "These functions are then put inside **.py files** and called to run through whole chunks of processing at a time"
   ]
  },
  {
   "cell_type": "markdown",
   "metadata": {},
   "source": [
    "We'll run through an example below"
   ]
  },
  {
   "cell_type": "markdown",
   "metadata": {},
   "source": [
    "### Imports"
   ]
  },
  {
   "cell_type": "code",
   "execution_count": null,
   "metadata": {},
   "outputs": [],
   "source": [
    "#run this cell w/o changes\n",
    "\n",
    "#data manip\n",
    "import pandas as pd\n",
    "import numpy as np\n",
    "\n",
    "#tests\n",
    "from test_background import pkl_dump, test_obj_dict, run_test_dict, run_test"
   ]
  },
  {
   "cell_type": "markdown",
   "metadata": {},
   "source": [
    "**Load in** fight_songs.csv from the data folder as a dataframe"
   ]
  },
  {
   "cell_type": "code",
   "execution_count": null,
   "metadata": {},
   "outputs": [],
   "source": [
    "fight_songs = pd.read_csv('data/fight_songs.csv')"
   ]
  },
  {
   "cell_type": "markdown",
   "metadata": {},
   "source": [
    "Notice that the `Year` column has **some weird values** in it, and is an object dtype (specifically, a string)"
   ]
  },
  {
   "cell_type": "code",
   "execution_count": null,
   "metadata": {},
   "outputs": [],
   "source": [
    "print(fight_songs.year.value_counts().head())\n",
    "\n",
    "type(fight_songs['year'][0])"
   ]
  },
  {
   "cell_type": "markdown",
   "metadata": {},
   "source": [
    "Write a quick function to **turn the value `\"Unknown\"` into `np.nan`**, wherever it appears in the dataframe.  \n",
    "\n",
    "**Include two parameters** (objects inside the parens of the function that are inputs used inside the function): \n",
    "- the dataframe \n",
    "- the value being replaced as `np.nan`\n",
    "\n",
    "(but it's ok to hardcode `np.nan` as what's replacing the value)\n",
    "\n",
    "*Don't forget the docstring!*\n",
    "\n",
    "Run it with the correct arguments as inputs and assign it to `fight_songs`"
   ]
  },
  {
   "cell_type": "code",
   "execution_count": null,
   "metadata": {},
   "outputs": [],
   "source": [
    "def turn_value_null('your_params_here'):\n",
    "    '''\n",
    "    write a docstring!\n",
    "    '''\n",
    "    #your code here \n",
    "    #that creates a variable \n",
    "    #named `frame`\n",
    "    \n",
    "    return frame\n",
    "    \n",
    "fight_songs = turn_value_null('your_arguments_here')\n",
    "fight_songs['year'].isna().sum()"
   ]
  },
  {
   "cell_type": "markdown",
   "metadata": {},
   "source": [
    "Now, write a function that **removes all the nulls**.\n",
    "\n",
    "Again, use the dataframe as a parameter to the function \n",
    "\n",
    "Run it with the correct arguments as inputs and assign it to `fight_songs`"
   ]
  },
  {
   "cell_type": "code",
   "execution_count": null,
   "metadata": {},
   "outputs": [],
   "source": [
    "def drop_nulls('your_params_here'):\n",
    "    '''\n",
    "    write a docstring\n",
    "    '''\n",
    "    \n",
    "    return frame\n",
    "\n",
    "fight_songs = drop_nulls('your_arguments_here')"
   ]
  },
  {
   "cell_type": "markdown",
   "metadata": {},
   "source": [
    "Finally, write a function to **turn the `type` of the `year` column into an `int`**\n",
    "\n",
    "This time, have the column be a parameter\n",
    "\n",
    "Call the function and assign it to `fight_songs['year']` (written out for you)"
   ]
  },
  {
   "cell_type": "code",
   "execution_count": null,
   "metadata": {},
   "outputs": [],
   "source": [
    "def turn_column_int('your_params_here'):\n",
    "    '''\n",
    "    your docstring here\n",
    "    '''\n",
    "    \n",
    "    column = df_series.astype(int)\n",
    "    return column\n",
    "\n",
    "fight_songs['year'] = turn_column_int('your_arguments_here')"
   ]
  },
  {
   "cell_type": "code",
   "execution_count": null,
   "metadata": {},
   "outputs": [],
   "source": [
    "#run this to check you work\n",
    "\n",
    "run_test(fight_songs, 'fight_songs')"
   ]
  },
  {
   "cell_type": "markdown",
   "metadata": {},
   "source": [
    "## Now the fun part:\n",
    "\n",
    "**Write a function** with the file path as the parameter, that:\n",
    "- **calls**  `turn_value_null`, `drop_nulls`, and `turn_column_int` **sequentially**\n",
    "    - (make sure to include all the specific parameters of those functions called above which are necessary to make them run)\n",
    "    \n",
    "    \n",
    "- **returns** a dataframe at the end\n",
    "\n",
    "It should be ***the same columns, rows and data*** as the dataframe we ended up with above"
   ]
  },
  {
   "cell_type": "code",
   "execution_count": null,
   "metadata": {},
   "outputs": [],
   "source": [
    "def load_clean_fight_songs('your_params_here'):\n",
    "    '''\n",
    "    write your docstring here!\n",
    "    '''\n",
    "    \n",
    "    return df\n"
   ]
  },
  {
   "cell_type": "code",
   "execution_count": null,
   "metadata": {},
   "outputs": [],
   "source": [
    "load_clean_fight_songs('your_arguments_here')"
   ]
  },
  {
   "cell_type": "code",
   "execution_count": null,
   "metadata": {},
   "outputs": [],
   "source": [
    "#run this cell to test your code!\n",
    "\n",
    "fight_songs_function_test = load_clean_fight_songs('data/fight_songs.csv')\n",
    "\n",
    "run_test(fight_songs_function_test, 'fight_songs')"
   ]
  },
  {
   "cell_type": "markdown",
   "metadata": {},
   "source": [
    "## Now the *really* fun part:\n"
   ]
  },
  {
   "cell_type": "markdown",
   "metadata": {},
   "source": [
    "Open a new **text file**, and **save it** as `data_cleaning.py`\n",
    "\n",
    "**Write out import statements for pandas and numpy**, using the same aliases we always do, in the same manner we always do\n",
    "\n",
    "**Write out** (in order to get your fingers some muscle memory time) **all the functions** you made above, in the order you made them\n",
    "\n",
    "At the top of `data_cleaning.py`, **write** (again, don't copy) in triple-quotes (like a docstring) the following:\n",
    "\n",
    "'''\n",
    "These functions are used to clean the fight_songs.csv dataset\n",
    "\n",
    "load_clean_fight_songs can be used with a path to the file to load the csv into a dataframe, run cleaning functions, and return a clean frame\n",
    "\n",
    "Individually, they are used to:\n",
    "\n",
    "\n",
    "\\- turn_value_null: change values of \"Unknown\" into np.nan\n",
    "\n",
    "\\- drop_nulls: drop the rows with np.nan values\n",
    "\n",
    "\\- turn_column_int: change the 'year' column into an int type\n",
    "\n",
    "\n",
    "\\- load_clean_fight_songs calls the above functions sequentially and returns the frame\n",
    "'''"
   ]
  },
  {
   "cell_type": "markdown",
   "metadata": {},
   "source": [
    "# A Note on the Path Variable\n",
    "\n",
    "\"The variable sys.path is a list of strings that determines the interpreter’s search path for modules.\"  \n",
    "[python_docs](https://docs.python.org/3/tutorial/modules.html)"
   ]
  },
  {
   "cell_type": "code",
   "execution_count": null,
   "metadata": {},
   "outputs": [],
   "source": [
    "import sys\n",
    "sys.path"
   ]
  },
  {
   "cell_type": "markdown",
   "metadata": {},
   "source": [
    "Make a copy of data_cleaning.py and rename it dc.py.  Move it into the empty src folder.  "
   ]
  },
  {
   "cell_type": "code",
   "execution_count": null,
   "metadata": {},
   "outputs": [],
   "source": [
    "# This will not work\n",
    "from dc import load_clean_fight_songs"
   ]
  },
  {
   "cell_type": "markdown",
   "metadata": {},
   "source": [
    "> we have to specify the path to the src folder."
   ]
  },
  {
   "cell_type": "code",
   "execution_count": null,
   "metadata": {},
   "outputs": [],
   "source": [
    "from src.dc import load_clean_fight_songs"
   ]
  },
  {
   "cell_type": "code",
   "execution_count": null,
   "metadata": {},
   "outputs": [],
   "source": [
    "Depending on how you structure your projects, you may have to add to your path."
   ]
  },
  {
   "cell_type": "code",
   "execution_count": null,
   "metadata": {},
   "outputs": [],
   "source": [
    "sys.path.append('..')\n"
   ]
  },
  {
   "cell_type": "code",
   "execution_count": null,
   "metadata": {},
   "outputs": [],
   "source": [
    "import os\n",
    "\n",
    "os.getcwd()"
   ]
  },
  {
   "cell_type": "code",
   "execution_count": null,
   "metadata": {},
   "outputs": [],
   "source": [
    "# You can add an absolute path by splitting on the repo name\n",
    "\n",
    "repo_name = ''\n",
    "\n",
    "root = os.getcwd().split(repo_name)[0] + repo_name\n",
    "sys.path.append(root)"
   ]
  },
  {
   "cell_type": "code",
   "execution_count": null,
   "metadata": {},
   "outputs": [],
   "source": [
    "sys.path"
   ]
  },
  {
   "cell_type": "markdown",
   "metadata": {},
   "source": [
    "> This way, no matter where you specify src, you will not encounter an error."
   ]
  },
  {
   "cell_type": "markdown",
   "metadata": {},
   "source": [
    "# Why This Matters"
   ]
  },
  {
   "cell_type": "markdown",
   "metadata": {},
   "source": [
    "The workflow that will make you an efficient data scientist goes something like this:\n",
    "\n",
    "- **Write preliminary code** in Jupyter Notebooks\n",
    "- Complete a **small** section of code that you know completes a necessary task\n",
    "- **Write that code into a function** in a .py file\n",
    "- In another notebook, **import that function** and run it\n",
    "\n",
    "#### There are -several- advantages to doing this\n",
    "\n",
    "- **Jupyter Notebooks are MeSsY**\n",
    "    - Easy to jump around cells and **lose track** of what you're doing\n",
    "    - Easy to **change the value of a variable** and not remember it later\n",
    "    - Not that easy to **combine work**\n",
    "    \n",
    "    \n",
    "- Importing functions through **.py files** into another book **helps mitigate** those problems\n",
    "    - Your important work is all in **one spot without the clutter** of producing that work\n",
    "    - Everything's in a tidy package, and so it's **harder for variables to get re-named**\n",
    "    - **Combining work becomes easier**. Instead of sharing code through Jupyter Notebooks, and having to figure out which cells to run in what order, we can share .py files where we've already put in the work of figuring out what to run in what order as we've been working\n",
    "    \n",
    "    \n",
    "- **Saves time in the long run**\n",
    "    - Might not seem worth the time investment at first, but as your projects become bigger and more sprawling the problems it helps mitigate will become laRG**ER**\n",
    "    - Doing this forces a **marathon mentality over a sprint mentality**, and helps keep one focused on small, necessary tasks\n"
   ]
  },
  {
   "cell_type": "markdown",
   "metadata": {},
   "source": [
    "![](viz/siren.gif)     ![](viz/siren.gif)\n",
    "# Is This Required for the Project?\n",
    "![](viz/siren.gif)     ![](viz/siren.gif)\n",
    "\n",
    "No\n"
   ]
  },
  {
   "cell_type": "markdown",
   "metadata": {},
   "source": [
    "### Should we try it?\n",
    "\n",
    "Sure!  But if it seems like it's becoming a hinderance to getting stuff done, go ahead and skip it"
   ]
  },
  {
   "cell_type": "code",
   "execution_count": null,
   "metadata": {},
   "outputs": [],
   "source": []
  }
 ],
 "metadata": {
  "kernelspec": {
   "display_name": "Python 3",
   "language": "python",
   "name": "python3"
  },
  "language_info": {
   "codemirror_mode": {
    "name": "ipython",
    "version": 3
   },
   "file_extension": ".py",
   "mimetype": "text/x-python",
   "name": "python",
   "nbconvert_exporter": "python",
   "pygments_lexer": "ipython3",
   "version": "3.8.5"
  }
 },
 "nbformat": 4,
 "nbformat_minor": 4
}
