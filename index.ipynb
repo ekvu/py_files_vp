{
 "cells": [
  {
   "cell_type": "markdown",
   "metadata": {},
   "source": [
    "## Efficient Data Science Workflows Use Functions in .py Files"
   ]
  },
  {
   "cell_type": "markdown",
   "metadata": {},
   "source": [
    "In order to avoid the clutter of jupyter notebooks and to aid collaboration, an efficient data science workflow puts most of its work into **functions**.  "
   ]
  },
  {
   "cell_type": "markdown",
   "metadata": {},
   "source": [
    "These functions are then put inside **.py files** and called to run through whole chunks of processing at a time"
   ]
  },
  {
   "cell_type": "markdown",
   "metadata": {},
   "source": [
    "We'll run through an example below"
   ]
  },
  {
   "cell_type": "markdown",
   "metadata": {},
   "source": [
    "### Imports"
   ]
  },
  {
   "cell_type": "code",
   "execution_count": 1,
   "metadata": {},
   "outputs": [],
   "source": [
    "#run this cell w/o changes\n",
    "\n",
    "#data manip\n",
    "import pandas as pd\n",
    "import numpy as np\n",
    "\n",
    "#tests\n",
    "from test_background import pkl_dump, test_obj_dict, run_test_dict, run_test"
   ]
  },
  {
   "cell_type": "markdown",
   "metadata": {},
   "source": [
    "**Load in** fight_songs.csv from the data folder as a dataframe"
   ]
  },
  {
   "cell_type": "code",
   "execution_count": 2,
   "metadata": {},
   "outputs": [],
   "source": [
    "fight_songs = pd.read_csv('data/fight_songs.csv')"
   ]
  },
  {
   "cell_type": "markdown",
   "metadata": {},
   "source": [
    "Notice that the `Year` column has **some weird values** in it, and is an object dtype (specifically, a string)"
   ]
  },
  {
   "cell_type": "code",
   "execution_count": 3,
   "metadata": {},
   "outputs": [
    {
     "name": "stdout",
     "output_type": "stream",
     "text": [
      "Unknown    5\n",
      "1912       4\n",
      "1915       4\n",
      "1919       3\n",
      "1950       3\n",
      "Name: year, dtype: int64\n"
     ]
    },
    {
     "data": {
      "text/plain": [
       "str"
      ]
     },
     "execution_count": 3,
     "metadata": {},
     "output_type": "execute_result"
    }
   ],
   "source": [
    "print(fight_songs.year.value_counts().head())\n",
    "\n",
    "type(fight_songs['year'][0])"
   ]
  },
  {
   "cell_type": "markdown",
   "metadata": {},
   "source": [
    "Write a quick function to **turn the value `\"Unknown\"` into `np.nan`**, wherever it appears in the dataframe.  \n",
    "\n",
    "**Include two parameters** (objects inside the parens of the function that are inputs used inside the function): \n",
    "- the dataframe \n",
    "- the value being replaced as `np.nan`\n",
    "\n",
    "(but it's ok to hardcode `np.nan` as what's replacing the value)\n",
    "\n",
    "*Don't forget the docstring!*\n",
    "\n",
    "Run it with the correct arguments as inputs and assign it to `fight_songs`"
   ]
  },
  {
   "cell_type": "code",
   "execution_count": 5,
   "metadata": {},
   "outputs": [],
   "source": [
    "def turn_value_null(fight_df, to_replace_value='Unknown'):\n",
    "    '''\n",
    "    function takes fightsong. csv and turns unknown values into np.nan\n",
    "    \n",
    "    parameters:\n",
    "    \n",
    "    returns:\n",
    "    '''\n",
    "    #your code here \n",
    "    #that creates a variable \n",
    "    #named `frame`\n",
    "    \n",
    "    frame = fight_df.copy()\n",
    "    frame['year'] = frame['year'].replace(to_replace_value, np.nan)\n",
    "    \n",
    "    return frame\n",
    "    "
   ]
  },
  {
   "cell_type": "code",
   "execution_count": null,
   "metadata": {},
   "outputs": [],
   "source": [
    "dir()"
   ]
  },
  {
   "cell_type": "code",
   "execution_count": 7,
   "metadata": {
    "scrolled": true
   },
   "outputs": [
    {
     "data": {
      "text/plain": [
       "1912    4\n",
       "1915    4\n",
       "1919    3\n",
       "1950    3\n",
       "1909    3\n",
       "1947    2\n",
       "1908    2\n",
       "1936    2\n",
       "1914    2\n",
       "1923    2\n",
       "1959    1\n",
       "1955    1\n",
       "1922    1\n",
       "1948    1\n",
       "1925    1\n",
       "1917    1\n",
       "1918    1\n",
       "1916    1\n",
       "1924    1\n",
       "1898    1\n",
       "1937    1\n",
       "1934    1\n",
       "1933    1\n",
       "1907    1\n",
       "1930    1\n",
       "1962    1\n",
       "1952    1\n",
       "1893    1\n",
       "1911    1\n",
       "1946    1\n",
       "1910    1\n",
       "1967    1\n",
       "1941    1\n",
       "1939    1\n",
       "1928    1\n",
       "1904    1\n",
       "1961    1\n",
       "1968    1\n",
       "1926    1\n",
       "1913    1\n",
       "1905    1\n",
       "1927    1\n",
       "1931    1\n",
       "Name: year, dtype: int64"
      ]
     },
     "execution_count": 7,
     "metadata": {},
     "output_type": "execute_result"
    }
   ],
   "source": [
    "fight_songs = turn_value_null(fight_songs, 'Unknown')\n",
    "fight_songs['year'].value_counts()"
   ]
  },
  {
   "cell_type": "markdown",
   "metadata": {},
   "source": [
    "Now, write a function that **removes all the nulls**.\n",
    "\n",
    "Again, use the dataframe as a parameter to the function \n",
    "\n",
    "Run it with the correct arguments as inputs and assign it to `fight_songs`"
   ]
  },
  {
   "cell_type": "code",
   "execution_count": 8,
   "metadata": {},
   "outputs": [],
   "source": [
    "def drop_nulls(fight_df):\n",
    "    '''\n",
    "    Fight df drop nulls\n",
    "    '''\n",
    "    frame = fight_df.dropna()\n",
    "    \n",
    "    return frame\n",
    "\n",
    "fight_songs = drop_nulls(fight_songs)"
   ]
  },
  {
   "cell_type": "markdown",
   "metadata": {},
   "source": [
    "Finally, write a function to **turn the `type` of the `year` column into an `int`**\n",
    "\n",
    "This time, have the column be a parameter\n",
    "\n",
    "Call the function and assign it to `fight_songs['year']` (written out for you)"
   ]
  },
  {
   "cell_type": "code",
   "execution_count": 20,
   "metadata": {},
   "outputs": [],
   "source": [
    "def turn_column_int(year_series):\n",
    "    '''\n",
    "    takes column from fight df and converts it to int\n",
    "    '''\n",
    "    \n",
    "    column = year_series.astype(int)\n",
    "    return column\n",
    "\n",
    "fight_songs['year'] = turn_column_int(fight_songs['year'])"
   ]
  },
  {
   "cell_type": "code",
   "execution_count": 14,
   "metadata": {},
   "outputs": [
    {
     "data": {
      "text/plain": [
       "'Try again'"
      ]
     },
     "execution_count": 14,
     "metadata": {},
     "output_type": "execute_result"
    }
   ],
   "source": [
    "#run this to check you work\n",
    "\n",
    "run_test(fight_songs, 'fight_songs')"
   ]
  },
  {
   "cell_type": "markdown",
   "metadata": {},
   "source": [
    "## Now the fun part:\n",
    "\n",
    "**Write a function** with the file path as the parameter, that:\n",
    "- **calls**  `turn_value_null`, `drop_nulls`, and `turn_column_int` **sequentially**\n",
    "    - (make sure to include all the specific parameters of those functions called above which are necessary to make them run)\n",
    "    \n",
    "    \n",
    "- **returns** a dataframe at the end\n",
    "\n",
    "It should be ***the same columns, rows and data*** as the dataframe we ended up with above"
   ]
  },
  {
   "cell_type": "code",
   "execution_count": 18,
   "metadata": {},
   "outputs": [],
   "source": [
    "def load_clean_fight_songs(file_path):\n",
    "    '''\n",
    "    prepare cleaned version of fight_song csv loaded from file_path\n",
    "    call turn_value_null, drop_nulls, and turn_column_int\n",
    "    '''\n",
    "    \n",
    "    df = pd.read_csv(file_path)\n",
    "    df = turn_value_null(df, 'Unknown')\n",
    "    df = drop_nulls(df)\n",
    "    df['year'] = turn_column_int(df['year'])\n",
    "    \n",
    "    return df\n"
   ]
  },
  {
   "cell_type": "code",
   "execution_count": 21,
   "metadata": {},
   "outputs": [
    {
     "data": {
      "text/html": [
       "<div>\n",
       "<style scoped>\n",
       "    .dataframe tbody tr th:only-of-type {\n",
       "        vertical-align: middle;\n",
       "    }\n",
       "\n",
       "    .dataframe tbody tr th {\n",
       "        vertical-align: top;\n",
       "    }\n",
       "\n",
       "    .dataframe thead th {\n",
       "        text-align: right;\n",
       "    }\n",
       "</style>\n",
       "<table border=\"1\" class=\"dataframe\">\n",
       "  <thead>\n",
       "    <tr style=\"text-align: right;\">\n",
       "      <th></th>\n",
       "      <th>school</th>\n",
       "      <th>conference</th>\n",
       "      <th>song_name</th>\n",
       "      <th>writers</th>\n",
       "      <th>year</th>\n",
       "      <th>student_writer</th>\n",
       "      <th>official_song</th>\n",
       "      <th>contest</th>\n",
       "      <th>bpm</th>\n",
       "      <th>sec_duration</th>\n",
       "      <th>...</th>\n",
       "      <th>win_won</th>\n",
       "      <th>victory_win_won</th>\n",
       "      <th>rah</th>\n",
       "      <th>nonsense</th>\n",
       "      <th>colors</th>\n",
       "      <th>men</th>\n",
       "      <th>opponents</th>\n",
       "      <th>spelling</th>\n",
       "      <th>trope_count</th>\n",
       "      <th>spotify_id</th>\n",
       "    </tr>\n",
       "  </thead>\n",
       "  <tbody>\n",
       "    <tr>\n",
       "      <th>0</th>\n",
       "      <td>Notre Dame</td>\n",
       "      <td>Independent</td>\n",
       "      <td>Victory March</td>\n",
       "      <td>Michael J. Shea and John F. Shea</td>\n",
       "      <td>1908</td>\n",
       "      <td>No</td>\n",
       "      <td>Yes</td>\n",
       "      <td>No</td>\n",
       "      <td>152</td>\n",
       "      <td>64</td>\n",
       "      <td>...</td>\n",
       "      <td>Yes</td>\n",
       "      <td>Yes</td>\n",
       "      <td>Yes</td>\n",
       "      <td>No</td>\n",
       "      <td>Yes</td>\n",
       "      <td>Yes</td>\n",
       "      <td>No</td>\n",
       "      <td>No</td>\n",
       "      <td>6</td>\n",
       "      <td>15a3ShKX3XWKzq0lSS48yr</td>\n",
       "    </tr>\n",
       "    <tr>\n",
       "      <th>1</th>\n",
       "      <td>Baylor</td>\n",
       "      <td>Big 12</td>\n",
       "      <td>Old Fight</td>\n",
       "      <td>Dick Baker and Frank Boggs</td>\n",
       "      <td>1947</td>\n",
       "      <td>Yes</td>\n",
       "      <td>Yes</td>\n",
       "      <td>No</td>\n",
       "      <td>76</td>\n",
       "      <td>99</td>\n",
       "      <td>...</td>\n",
       "      <td>Yes</td>\n",
       "      <td>Yes</td>\n",
       "      <td>No</td>\n",
       "      <td>No</td>\n",
       "      <td>Yes</td>\n",
       "      <td>No</td>\n",
       "      <td>No</td>\n",
       "      <td>Yes</td>\n",
       "      <td>5</td>\n",
       "      <td>2ZsaI0Cu4nz8DHfBkPt0Dl</td>\n",
       "    </tr>\n",
       "    <tr>\n",
       "      <th>2</th>\n",
       "      <td>Iowa State</td>\n",
       "      <td>Big 12</td>\n",
       "      <td>Iowa State Fights</td>\n",
       "      <td>Jack Barker, Manly Rice, Paul Gnam, Rosalind K...</td>\n",
       "      <td>1930</td>\n",
       "      <td>Yes</td>\n",
       "      <td>Yes</td>\n",
       "      <td>No</td>\n",
       "      <td>155</td>\n",
       "      <td>55</td>\n",
       "      <td>...</td>\n",
       "      <td>No</td>\n",
       "      <td>No</td>\n",
       "      <td>Yes</td>\n",
       "      <td>No</td>\n",
       "      <td>No</td>\n",
       "      <td>Yes</td>\n",
       "      <td>No</td>\n",
       "      <td>Yes</td>\n",
       "      <td>4</td>\n",
       "      <td>3yyfoOXZQCtR6pfRJqu9pl</td>\n",
       "    </tr>\n",
       "    <tr>\n",
       "      <th>3</th>\n",
       "      <td>Kansas</td>\n",
       "      <td>Big 12</td>\n",
       "      <td>I'm a Jayhawk</td>\n",
       "      <td>George \"Dumpy\" Bowles</td>\n",
       "      <td>1912</td>\n",
       "      <td>Yes</td>\n",
       "      <td>Yes</td>\n",
       "      <td>No</td>\n",
       "      <td>137</td>\n",
       "      <td>62</td>\n",
       "      <td>...</td>\n",
       "      <td>No</td>\n",
       "      <td>No</td>\n",
       "      <td>No</td>\n",
       "      <td>Yes</td>\n",
       "      <td>No</td>\n",
       "      <td>Yes</td>\n",
       "      <td>Yes</td>\n",
       "      <td>No</td>\n",
       "      <td>3</td>\n",
       "      <td>0JzbjZgcjugS0dmPjF9R89</td>\n",
       "    </tr>\n",
       "    <tr>\n",
       "      <th>4</th>\n",
       "      <td>Kansas State</td>\n",
       "      <td>Big 12</td>\n",
       "      <td>Wildcat Victory</td>\n",
       "      <td>Harry E. Erickson</td>\n",
       "      <td>1927</td>\n",
       "      <td>Yes</td>\n",
       "      <td>Yes</td>\n",
       "      <td>No</td>\n",
       "      <td>80</td>\n",
       "      <td>67</td>\n",
       "      <td>...</td>\n",
       "      <td>No</td>\n",
       "      <td>Yes</td>\n",
       "      <td>No</td>\n",
       "      <td>No</td>\n",
       "      <td>Yes</td>\n",
       "      <td>No</td>\n",
       "      <td>No</td>\n",
       "      <td>No</td>\n",
       "      <td>3</td>\n",
       "      <td>4xxDK4g1OHhZ44sTFy8Ktm</td>\n",
       "    </tr>\n",
       "  </tbody>\n",
       "</table>\n",
       "<p>5 rows × 23 columns</p>\n",
       "</div>"
      ],
      "text/plain": [
       "         school   conference          song_name  \\\n",
       "0    Notre Dame  Independent      Victory March   \n",
       "1        Baylor       Big 12          Old Fight   \n",
       "2    Iowa State       Big 12  Iowa State Fights   \n",
       "3        Kansas       Big 12      I'm a Jayhawk   \n",
       "4  Kansas State       Big 12    Wildcat Victory   \n",
       "\n",
       "                                             writers  year student_writer  \\\n",
       "0                   Michael J. Shea and John F. Shea  1908             No   \n",
       "1                         Dick Baker and Frank Boggs  1947            Yes   \n",
       "2  Jack Barker, Manly Rice, Paul Gnam, Rosalind K...  1930            Yes   \n",
       "3                              George \"Dumpy\" Bowles  1912            Yes   \n",
       "4                                  Harry E. Erickson  1927            Yes   \n",
       "\n",
       "  official_song contest  bpm  sec_duration  ... win_won  victory_win_won  rah  \\\n",
       "0           Yes      No  152            64  ...     Yes              Yes  Yes   \n",
       "1           Yes      No   76            99  ...     Yes              Yes   No   \n",
       "2           Yes      No  155            55  ...      No               No  Yes   \n",
       "3           Yes      No  137            62  ...      No               No   No   \n",
       "4           Yes      No   80            67  ...      No              Yes   No   \n",
       "\n",
       "  nonsense colors  men opponents spelling trope_count              spotify_id  \n",
       "0       No    Yes  Yes        No       No           6  15a3ShKX3XWKzq0lSS48yr  \n",
       "1       No    Yes   No        No      Yes           5  2ZsaI0Cu4nz8DHfBkPt0Dl  \n",
       "2       No     No  Yes        No      Yes           4  3yyfoOXZQCtR6pfRJqu9pl  \n",
       "3      Yes     No  Yes       Yes       No           3  0JzbjZgcjugS0dmPjF9R89  \n",
       "4       No    Yes   No        No       No           3  4xxDK4g1OHhZ44sTFy8Ktm  \n",
       "\n",
       "[5 rows x 23 columns]"
      ]
     },
     "execution_count": 21,
     "metadata": {},
     "output_type": "execute_result"
    }
   ],
   "source": [
    "load_clean_fight_songs('data/fight_songs.csv').head()"
   ]
  },
  {
   "cell_type": "code",
   "execution_count": 22,
   "metadata": {},
   "outputs": [
    {
     "data": {
      "text/plain": [
       "'Try again'"
      ]
     },
     "execution_count": 22,
     "metadata": {},
     "output_type": "execute_result"
    }
   ],
   "source": [
    "#run this cell to test your code!\n",
    "\n",
    "fight_songs_function_test = load_clean_fight_songs('data/fight_songs.csv')\n",
    "\n",
    "run_test(fight_songs_function_test, 'fight_songs')"
   ]
  },
  {
   "cell_type": "markdown",
   "metadata": {},
   "source": [
    "## Now the *really* fun part:\n"
   ]
  },
  {
   "cell_type": "markdown",
   "metadata": {},
   "source": [
    "Open a new **text file**, and **save it** as `data_cleaning.py`\n",
    "\n",
    "**Write out import statements for pandas and numpy**, using the same aliases we always do, in the same manner we always do\n",
    "\n",
    "**Write out** (in order to get your fingers some muscle memory time) **all the functions** you made above, in the order you made them\n",
    "\n",
    "At the top of `data_cleaning.py`, **write** (again, don't copy) in triple-quotes (like a docstring) the following:\n",
    "\n",
    "'''\n",
    "These functions are used to clean the fight_songs.csv dataset\n",
    "\n",
    "load_clean_fight_songs can be used with a path to the file to load the csv into a dataframe, run cleaning functions, and return a clean frame\n",
    "\n",
    "Individually, they are used to:\n",
    "\n",
    "\n",
    "\\- turn_value_null: change values of \"Unknown\" into np.nan\n",
    "\n",
    "\\- drop_nulls: drop the rows with np.nan values\n",
    "\n",
    "\\- turn_column_int: change the 'year' column into an int type\n",
    "\n",
    "\n",
    "\\- load_clean_fight_songs calls the above functions sequentially and returns the frame\n",
    "'''"
   ]
  },
  {
   "cell_type": "markdown",
   "metadata": {},
   "source": [
    "# A Note on the Path Variable\n",
    "\n",
    "\"The variable sys.path is a list of strings that determines the interpreter’s search path for modules.\"  \n",
    "[python_docs](https://docs.python.org/3/tutorial/modules.html)"
   ]
  },
  {
   "cell_type": "code",
   "execution_count": 24,
   "metadata": {},
   "outputs": [
    {
     "data": {
      "text/plain": [
       "['C:\\\\Users\\\\Erin Vu\\\\documents\\\\flatiron\\\\phase2\\\\py_files_vp',\n",
       " 'C:\\\\Users\\\\Erin Vu\\\\anaconda3\\\\envs\\\\learn-env\\\\python38.zip',\n",
       " 'C:\\\\Users\\\\Erin Vu\\\\anaconda3\\\\envs\\\\learn-env\\\\DLLs',\n",
       " 'C:\\\\Users\\\\Erin Vu\\\\anaconda3\\\\envs\\\\learn-env\\\\lib',\n",
       " 'C:\\\\Users\\\\Erin Vu\\\\anaconda3\\\\envs\\\\learn-env',\n",
       " '',\n",
       " 'C:\\\\Users\\\\Erin Vu\\\\anaconda3\\\\envs\\\\learn-env\\\\lib\\\\site-packages',\n",
       " 'C:\\\\Users\\\\Erin Vu\\\\anaconda3\\\\envs\\\\learn-env\\\\lib\\\\site-packages\\\\win32',\n",
       " 'C:\\\\Users\\\\Erin Vu\\\\anaconda3\\\\envs\\\\learn-env\\\\lib\\\\site-packages\\\\win32\\\\lib',\n",
       " 'C:\\\\Users\\\\Erin Vu\\\\anaconda3\\\\envs\\\\learn-env\\\\lib\\\\site-packages\\\\Pythonwin',\n",
       " 'C:\\\\Users\\\\Erin Vu\\\\anaconda3\\\\envs\\\\learn-env\\\\lib\\\\site-packages\\\\IPython\\\\extensions',\n",
       " 'C:\\\\Users\\\\Erin Vu\\\\.ipython']"
      ]
     },
     "execution_count": 24,
     "metadata": {},
     "output_type": "execute_result"
    }
   ],
   "source": [
    "import sys\n",
    "sys.path"
   ]
  },
  {
   "cell_type": "markdown",
   "metadata": {},
   "source": [
    "Make a copy of data_cleaning.py and rename it dc.py.  Move it into the empty src folder.  "
   ]
  },
  {
   "cell_type": "code",
   "execution_count": 25,
   "metadata": {},
   "outputs": [
    {
     "ename": "ModuleNotFoundError",
     "evalue": "No module named 'dc'",
     "output_type": "error",
     "traceback": [
      "\u001b[1;31m---------------------------------------------------------------------------\u001b[0m",
      "\u001b[1;31mModuleNotFoundError\u001b[0m                       Traceback (most recent call last)",
      "\u001b[1;32m<ipython-input-25-92a1767e9af7>\u001b[0m in \u001b[0;36m<module>\u001b[1;34m\u001b[0m\n\u001b[0;32m      1\u001b[0m \u001b[1;31m# This will not work\u001b[0m\u001b[1;33m\u001b[0m\u001b[1;33m\u001b[0m\u001b[1;33m\u001b[0m\u001b[0m\n\u001b[1;32m----> 2\u001b[1;33m \u001b[1;32mfrom\u001b[0m \u001b[0mdc\u001b[0m \u001b[1;32mimport\u001b[0m \u001b[0mload_clean_fight_songs\u001b[0m\u001b[1;33m\u001b[0m\u001b[1;33m\u001b[0m\u001b[0m\n\u001b[0m",
      "\u001b[1;31mModuleNotFoundError\u001b[0m: No module named 'dc'"
     ]
    }
   ],
   "source": [
    "# This will not work\n",
    "from dc import load_clean_fight_songs"
   ]
  },
  {
   "cell_type": "markdown",
   "metadata": {},
   "source": [
    "> we have to specify the path to the src folder."
   ]
  },
  {
   "cell_type": "code",
   "execution_count": 26,
   "metadata": {},
   "outputs": [
    {
     "ename": "ModuleNotFoundError",
     "evalue": "No module named 'src.dc'",
     "output_type": "error",
     "traceback": [
      "\u001b[1;31m---------------------------------------------------------------------------\u001b[0m",
      "\u001b[1;31mModuleNotFoundError\u001b[0m                       Traceback (most recent call last)",
      "\u001b[1;32m<ipython-input-26-75c7d4ab55b7>\u001b[0m in \u001b[0;36m<module>\u001b[1;34m\u001b[0m\n\u001b[1;32m----> 1\u001b[1;33m \u001b[1;32mfrom\u001b[0m \u001b[0msrc\u001b[0m\u001b[1;33m.\u001b[0m\u001b[0mdc\u001b[0m \u001b[1;32mimport\u001b[0m \u001b[0mload_clean_fight_songs\u001b[0m\u001b[1;33m\u001b[0m\u001b[1;33m\u001b[0m\u001b[0m\n\u001b[0m",
      "\u001b[1;31mModuleNotFoundError\u001b[0m: No module named 'src.dc'"
     ]
    }
   ],
   "source": [
    "from src.dc import load_clean_fight_songs"
   ]
  },
  {
   "cell_type": "code",
   "execution_count": 27,
   "metadata": {},
   "outputs": [
    {
     "ename": "SyntaxError",
     "evalue": "invalid syntax (<ipython-input-27-e92a3b9f3d56>, line 1)",
     "output_type": "error",
     "traceback": [
      "\u001b[1;36m  File \u001b[1;32m\"<ipython-input-27-e92a3b9f3d56>\"\u001b[1;36m, line \u001b[1;32m1\u001b[0m\n\u001b[1;33m    Depending on how you structure your projects, you may have to add to your path.\u001b[0m\n\u001b[1;37m              ^\u001b[0m\n\u001b[1;31mSyntaxError\u001b[0m\u001b[1;31m:\u001b[0m invalid syntax\n"
     ]
    }
   ],
   "source": [
    "Depending on how you structure your projects, you may have to add to your path."
   ]
  },
  {
   "cell_type": "code",
   "execution_count": 28,
   "metadata": {},
   "outputs": [],
   "source": [
    "sys.path.append('..')\n"
   ]
  },
  {
   "cell_type": "code",
   "execution_count": 29,
   "metadata": {},
   "outputs": [
    {
     "data": {
      "text/plain": [
       "'C:\\\\Users\\\\Erin Vu\\\\documents\\\\flatiron\\\\phase2\\\\py_files_vp'"
      ]
     },
     "execution_count": 29,
     "metadata": {},
     "output_type": "execute_result"
    }
   ],
   "source": [
    "import os\n",
    "\n",
    "os.getcwd()"
   ]
  },
  {
   "cell_type": "code",
   "execution_count": null,
   "metadata": {},
   "outputs": [],
   "source": [
    "# You can add an absolute path by splitting on the repo name\n",
    "\n",
    "repo_name = ''\n",
    "\n",
    "root = os.getcwd().split(repo_name)[0] + repo_name\n",
    "sys.path.append(root)"
   ]
  },
  {
   "cell_type": "code",
   "execution_count": null,
   "metadata": {},
   "outputs": [],
   "source": [
    "sys.path"
   ]
  },
  {
   "cell_type": "markdown",
   "metadata": {},
   "source": [
    "> This way, no matter where you specify src, you will not encounter an error."
   ]
  },
  {
   "cell_type": "markdown",
   "metadata": {},
   "source": [
    "# Why This Matters"
   ]
  },
  {
   "cell_type": "markdown",
   "metadata": {},
   "source": [
    "The workflow that will make you an efficient data scientist goes something like this:\n",
    "\n",
    "- **Write preliminary code** in Jupyter Notebooks\n",
    "- Complete a **small** section of code that you know completes a necessary task\n",
    "- **Write that code into a function** in a .py file\n",
    "- In another notebook, **import that function** and run it\n",
    "\n",
    "#### There are -several- advantages to doing this\n",
    "\n",
    "- **Jupyter Notebooks are MeSsY**\n",
    "    - Easy to jump around cells and **lose track** of what you're doing\n",
    "    - Easy to **change the value of a variable** and not remember it later\n",
    "    - Not that easy to **combine work**\n",
    "    \n",
    "    \n",
    "- Importing functions through **.py files** into another book **helps mitigate** those problems\n",
    "    - Your important work is all in **one spot without the clutter** of producing that work\n",
    "    - Everything's in a tidy package, and so it's **harder for variables to get re-named**\n",
    "    - **Combining work becomes easier**. Instead of sharing code through Jupyter Notebooks, and having to figure out which cells to run in what order, we can share .py files where we've already put in the work of figuring out what to run in what order as we've been working\n",
    "    \n",
    "    \n",
    "- **Saves time in the long run**\n",
    "    - Might not seem worth the time investment at first, but as your projects become bigger and more sprawling the problems it helps mitigate will become laRG**ER**\n",
    "    - Doing this forces a **marathon mentality over a sprint mentality**, and helps keep one focused on small, necessary tasks\n"
   ]
  },
  {
   "cell_type": "markdown",
   "metadata": {},
   "source": [
    "![](viz/siren.gif)     ![](viz/siren.gif)\n",
    "# Is This Required for the Project?\n",
    "![](viz/siren.gif)     ![](viz/siren.gif)\n",
    "\n",
    "No\n"
   ]
  },
  {
   "cell_type": "markdown",
   "metadata": {},
   "source": [
    "### Should we try it?\n",
    "\n",
    "Sure!  But if it seems like it's becoming a hinderance to getting stuff done, go ahead and skip it"
   ]
  },
  {
   "cell_type": "code",
   "execution_count": 23,
   "metadata": {},
   "outputs": [],
   "source": [
    "%load_ext autoreload\n",
    "%autoreload 2"
   ]
  },
  {
   "cell_type": "code",
   "execution_count": null,
   "metadata": {},
   "outputs": [],
   "source": []
  }
 ],
 "metadata": {
  "kernelspec": {
   "display_name": "Python 3",
   "language": "python",
   "name": "python3"
  },
  "language_info": {
   "codemirror_mode": {
    "name": "ipython",
    "version": 3
   },
   "file_extension": ".py",
   "mimetype": "text/x-python",
   "name": "python",
   "nbconvert_exporter": "python",
   "pygments_lexer": "ipython3",
   "version": "3.8.5"
  }
 },
 "nbformat": 4,
 "nbformat_minor": 4
}
